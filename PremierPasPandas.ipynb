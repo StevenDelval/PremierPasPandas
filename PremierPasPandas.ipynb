{
 "cells": [
  {
   "cell_type": "markdown",
   "metadata": {},
   "source": [
    "# Etape n°1"
   ]
  },
  {
   "cell_type": "code",
   "execution_count": 1117,
   "metadata": {},
   "outputs": [],
   "source": [
    "import pandas as pd"
   ]
  },
  {
   "cell_type": "markdown",
   "metadata": {},
   "source": [
    "Création du DataFrame pour la population"
   ]
  },
  {
   "cell_type": "code",
   "execution_count": 1118,
   "metadata": {},
   "outputs": [],
   "source": [
    "df_pop = pd.read_csv(\"csv/df_pop.csv\")"
   ]
  },
  {
   "cell_type": "markdown",
   "metadata": {},
   "source": [
    "Création du DataFrame pour les produits animals"
   ]
  },
  {
   "cell_type": "code",
   "execution_count": 1119,
   "metadata": {},
   "outputs": [],
   "source": [
    "df_anim = pd.read_csv(\"csv/df_anim.csv\")"
   ]
  },
  {
   "cell_type": "markdown",
   "metadata": {},
   "source": [
    "Création du DataFrame pour les produits végetals"
   ]
  },
  {
   "cell_type": "code",
   "execution_count": 1120,
   "metadata": {},
   "outputs": [],
   "source": [
    "df_veg = pd.read_csv(\"csv/df_veg.csv\")"
   ]
  },
  {
   "cell_type": "markdown",
   "metadata": {},
   "source": [
    "# Etape n°2\n",
    "\n",
    "### Question n°1 "
   ]
  },
  {
   "cell_type": "code",
   "execution_count": 1121,
   "metadata": {},
   "outputs": [],
   "source": [
    "def nettoyage_nom_colonne(str):\n",
    "    \"\"\"\n",
    "    Fonction qui ramplace les majuscules par des minuscule et des espaces par des _\n",
    "    :param str:(str) Nom de la colonne\n",
    "    :return : (str) Nom de la colonne sans majuscule et espaces\n",
    "    \"\"\"\n",
    "    str=str.lower().strip().replace(\" \",\"_\")\n",
    "    \n",
    "    return str"
   ]
  },
  {
   "cell_type": "markdown",
   "metadata": {},
   "source": [
    "### Question n°2 et 3"
   ]
  },
  {
   "cell_type": "markdown",
   "metadata": {},
   "source": [
    "Dimension dataframe population et 5 premières lignes"
   ]
  },
  {
   "cell_type": "code",
   "execution_count": 1122,
   "metadata": {},
   "outputs": [
    {
     "name": "stdout",
     "output_type": "stream",
     "text": [
      "<class 'pandas.core.frame.DataFrame'>\n",
      "RangeIndex: 358 entries, 0 to 357\n",
      "Data columns (total 14 columns):\n",
      " #   Column            Non-Null Count  Dtype  \n",
      "---  ------            --------------  -----  \n",
      " 0   Domain Code       358 non-null    object \n",
      " 1   Domain            358 non-null    object \n",
      " 2   Area Code (FAO)   358 non-null    int64  \n",
      " 3   Area              358 non-null    object \n",
      " 4   Element Code      358 non-null    int64  \n",
      " 5   Element           358 non-null    object \n",
      " 6   Item Code         358 non-null    int64  \n",
      " 7   Item              358 non-null    object \n",
      " 8   Year Code         358 non-null    int64  \n",
      " 9   Year              358 non-null    int64  \n",
      " 10  Unit              358 non-null    object \n",
      " 11  Value             358 non-null    float64\n",
      " 12  Flag              358 non-null    object \n",
      " 13  Flag Description  358 non-null    object \n",
      "dtypes: float64(1), int64(5), object(8)\n",
      "memory usage: 39.3+ KB\n"
     ]
    }
   ],
   "source": [
    "#Affiche les informations du dataframe\n",
    "df_pop.info()"
   ]
  },
  {
   "cell_type": "code",
   "execution_count": 1123,
   "metadata": {},
   "outputs": [
    {
     "data": {
      "text/plain": [
       "(358, 14)"
      ]
     },
     "execution_count": 1123,
     "metadata": {},
     "output_type": "execute_result"
    }
   ],
   "source": [
    "#Affiche la dimension\n",
    "df_pop.shape"
   ]
  },
  {
   "cell_type": "code",
   "execution_count": 1124,
   "metadata": {},
   "outputs": [
    {
     "data": {
      "text/html": [
       "<div>\n",
       "<style scoped>\n",
       "    .dataframe tbody tr th:only-of-type {\n",
       "        vertical-align: middle;\n",
       "    }\n",
       "\n",
       "    .dataframe tbody tr th {\n",
       "        vertical-align: top;\n",
       "    }\n",
       "\n",
       "    .dataframe thead th {\n",
       "        text-align: right;\n",
       "    }\n",
       "</style>\n",
       "<table border=\"1\" class=\"dataframe\">\n",
       "  <thead>\n",
       "    <tr style=\"text-align: right;\">\n",
       "      <th></th>\n",
       "      <th>Domain Code</th>\n",
       "      <th>Domain</th>\n",
       "      <th>Area Code (FAO)</th>\n",
       "      <th>Area</th>\n",
       "      <th>Element Code</th>\n",
       "      <th>Element</th>\n",
       "      <th>Item Code</th>\n",
       "      <th>Item</th>\n",
       "      <th>Year Code</th>\n",
       "      <th>Year</th>\n",
       "      <th>Unit</th>\n",
       "      <th>Value</th>\n",
       "      <th>Flag</th>\n",
       "      <th>Flag Description</th>\n",
       "    </tr>\n",
       "  </thead>\n",
       "  <tbody>\n",
       "    <tr>\n",
       "      <th>0</th>\n",
       "      <td>FBS</td>\n",
       "      <td>Food Balances (2010-)</td>\n",
       "      <td>2</td>\n",
       "      <td>Afghanistan</td>\n",
       "      <td>511</td>\n",
       "      <td>Total Population - Both sexes</td>\n",
       "      <td>2501</td>\n",
       "      <td>Population</td>\n",
       "      <td>2018</td>\n",
       "      <td>2018</td>\n",
       "      <td>1000 persons</td>\n",
       "      <td>37172.0</td>\n",
       "      <td>*</td>\n",
       "      <td>Unofficial figure</td>\n",
       "    </tr>\n",
       "    <tr>\n",
       "      <th>1</th>\n",
       "      <td>FBS</td>\n",
       "      <td>Food Balances (2010-)</td>\n",
       "      <td>2</td>\n",
       "      <td>Afghanistan</td>\n",
       "      <td>511</td>\n",
       "      <td>Total Population - Both sexes</td>\n",
       "      <td>2501</td>\n",
       "      <td>Population</td>\n",
       "      <td>2019</td>\n",
       "      <td>2019</td>\n",
       "      <td>1000 persons</td>\n",
       "      <td>38042.0</td>\n",
       "      <td>*</td>\n",
       "      <td>Unofficial figure</td>\n",
       "    </tr>\n",
       "    <tr>\n",
       "      <th>2</th>\n",
       "      <td>FBS</td>\n",
       "      <td>Food Balances (2010-)</td>\n",
       "      <td>3</td>\n",
       "      <td>Albania</td>\n",
       "      <td>511</td>\n",
       "      <td>Total Population - Both sexes</td>\n",
       "      <td>2501</td>\n",
       "      <td>Population</td>\n",
       "      <td>2018</td>\n",
       "      <td>2018</td>\n",
       "      <td>1000 persons</td>\n",
       "      <td>2883.0</td>\n",
       "      <td>*</td>\n",
       "      <td>Unofficial figure</td>\n",
       "    </tr>\n",
       "    <tr>\n",
       "      <th>3</th>\n",
       "      <td>FBS</td>\n",
       "      <td>Food Balances (2010-)</td>\n",
       "      <td>3</td>\n",
       "      <td>Albania</td>\n",
       "      <td>511</td>\n",
       "      <td>Total Population - Both sexes</td>\n",
       "      <td>2501</td>\n",
       "      <td>Population</td>\n",
       "      <td>2019</td>\n",
       "      <td>2019</td>\n",
       "      <td>1000 persons</td>\n",
       "      <td>2881.0</td>\n",
       "      <td>*</td>\n",
       "      <td>Unofficial figure</td>\n",
       "    </tr>\n",
       "    <tr>\n",
       "      <th>4</th>\n",
       "      <td>FBS</td>\n",
       "      <td>Food Balances (2010-)</td>\n",
       "      <td>4</td>\n",
       "      <td>Algeria</td>\n",
       "      <td>511</td>\n",
       "      <td>Total Population - Both sexes</td>\n",
       "      <td>2501</td>\n",
       "      <td>Population</td>\n",
       "      <td>2018</td>\n",
       "      <td>2018</td>\n",
       "      <td>1000 persons</td>\n",
       "      <td>42228.0</td>\n",
       "      <td>*</td>\n",
       "      <td>Unofficial figure</td>\n",
       "    </tr>\n",
       "  </tbody>\n",
       "</table>\n",
       "</div>"
      ],
      "text/plain": [
       "  Domain Code                 Domain  Area Code (FAO)         Area  \\\n",
       "0         FBS  Food Balances (2010-)                2  Afghanistan   \n",
       "1         FBS  Food Balances (2010-)                2  Afghanistan   \n",
       "2         FBS  Food Balances (2010-)                3      Albania   \n",
       "3         FBS  Food Balances (2010-)                3      Albania   \n",
       "4         FBS  Food Balances (2010-)                4      Algeria   \n",
       "\n",
       "   Element Code                        Element  Item Code        Item  \\\n",
       "0           511  Total Population - Both sexes       2501  Population   \n",
       "1           511  Total Population - Both sexes       2501  Population   \n",
       "2           511  Total Population - Both sexes       2501  Population   \n",
       "3           511  Total Population - Both sexes       2501  Population   \n",
       "4           511  Total Population - Both sexes       2501  Population   \n",
       "\n",
       "   Year Code  Year          Unit    Value Flag   Flag Description  \n",
       "0       2018  2018  1000 persons  37172.0    *  Unofficial figure  \n",
       "1       2019  2019  1000 persons  38042.0    *  Unofficial figure  \n",
       "2       2018  2018  1000 persons   2883.0    *  Unofficial figure  \n",
       "3       2019  2019  1000 persons   2881.0    *  Unofficial figure  \n",
       "4       2018  2018  1000 persons  42228.0    *  Unofficial figure  "
      ]
     },
     "execution_count": 1124,
     "metadata": {},
     "output_type": "execute_result"
    }
   ],
   "source": [
    "#Affiche les 5 premières lignes\n",
    "df_pop.head()"
   ]
  },
  {
   "cell_type": "markdown",
   "metadata": {},
   "source": [
    "Dimension dataframe poduits animals et 5 premières lignes"
   ]
  },
  {
   "cell_type": "code",
   "execution_count": 1125,
   "metadata": {},
   "outputs": [
    {
     "data": {
      "text/plain": [
       "(30897, 14)"
      ]
     },
     "execution_count": 1125,
     "metadata": {},
     "output_type": "execute_result"
    }
   ],
   "source": [
    "#Affiche la dimension\n",
    "df_anim.shape"
   ]
  },
  {
   "cell_type": "code",
   "execution_count": 1126,
   "metadata": {},
   "outputs": [
    {
     "data": {
      "text/html": [
       "<div>\n",
       "<style scoped>\n",
       "    .dataframe tbody tr th:only-of-type {\n",
       "        vertical-align: middle;\n",
       "    }\n",
       "\n",
       "    .dataframe tbody tr th {\n",
       "        vertical-align: top;\n",
       "    }\n",
       "\n",
       "    .dataframe thead th {\n",
       "        text-align: right;\n",
       "    }\n",
       "</style>\n",
       "<table border=\"1\" class=\"dataframe\">\n",
       "  <thead>\n",
       "    <tr style=\"text-align: right;\">\n",
       "      <th></th>\n",
       "      <th>Domain Code</th>\n",
       "      <th>Domain</th>\n",
       "      <th>Area Code (FAO)</th>\n",
       "      <th>Area</th>\n",
       "      <th>Element Code</th>\n",
       "      <th>Element</th>\n",
       "      <th>Item Code</th>\n",
       "      <th>Item</th>\n",
       "      <th>Year Code</th>\n",
       "      <th>Year</th>\n",
       "      <th>Unit</th>\n",
       "      <th>Value</th>\n",
       "      <th>Flag</th>\n",
       "      <th>Flag Description</th>\n",
       "    </tr>\n",
       "  </thead>\n",
       "  <tbody>\n",
       "    <tr>\n",
       "      <th>0</th>\n",
       "      <td>FBS</td>\n",
       "      <td>Food Balances (2010-)</td>\n",
       "      <td>2</td>\n",
       "      <td>Afghanistan</td>\n",
       "      <td>645</td>\n",
       "      <td>Food supply quantity (kg/capita/yr)</td>\n",
       "      <td>2731</td>\n",
       "      <td>Bovine Meat</td>\n",
       "      <td>2018</td>\n",
       "      <td>2018</td>\n",
       "      <td>kg</td>\n",
       "      <td>2.62</td>\n",
       "      <td>Fc</td>\n",
       "      <td>Calculated data</td>\n",
       "    </tr>\n",
       "    <tr>\n",
       "      <th>1</th>\n",
       "      <td>FBS</td>\n",
       "      <td>Food Balances (2010-)</td>\n",
       "      <td>2</td>\n",
       "      <td>Afghanistan</td>\n",
       "      <td>645</td>\n",
       "      <td>Food supply quantity (kg/capita/yr)</td>\n",
       "      <td>2731</td>\n",
       "      <td>Bovine Meat</td>\n",
       "      <td>2019</td>\n",
       "      <td>2019</td>\n",
       "      <td>kg</td>\n",
       "      <td>2.65</td>\n",
       "      <td>Fc</td>\n",
       "      <td>Calculated data</td>\n",
       "    </tr>\n",
       "    <tr>\n",
       "      <th>2</th>\n",
       "      <td>FBS</td>\n",
       "      <td>Food Balances (2010-)</td>\n",
       "      <td>2</td>\n",
       "      <td>Afghanistan</td>\n",
       "      <td>664</td>\n",
       "      <td>Food supply (kcal/capita/day)</td>\n",
       "      <td>2731</td>\n",
       "      <td>Bovine Meat</td>\n",
       "      <td>2018</td>\n",
       "      <td>2018</td>\n",
       "      <td>kcal/capita/day</td>\n",
       "      <td>15.00</td>\n",
       "      <td>Fc</td>\n",
       "      <td>Calculated data</td>\n",
       "    </tr>\n",
       "    <tr>\n",
       "      <th>3</th>\n",
       "      <td>FBS</td>\n",
       "      <td>Food Balances (2010-)</td>\n",
       "      <td>2</td>\n",
       "      <td>Afghanistan</td>\n",
       "      <td>664</td>\n",
       "      <td>Food supply (kcal/capita/day)</td>\n",
       "      <td>2731</td>\n",
       "      <td>Bovine Meat</td>\n",
       "      <td>2019</td>\n",
       "      <td>2019</td>\n",
       "      <td>kcal/capita/day</td>\n",
       "      <td>16.00</td>\n",
       "      <td>Fc</td>\n",
       "      <td>Calculated data</td>\n",
       "    </tr>\n",
       "    <tr>\n",
       "      <th>4</th>\n",
       "      <td>FBS</td>\n",
       "      <td>Food Balances (2010-)</td>\n",
       "      <td>2</td>\n",
       "      <td>Afghanistan</td>\n",
       "      <td>674</td>\n",
       "      <td>Protein supply quantity (g/capita/day)</td>\n",
       "      <td>2731</td>\n",
       "      <td>Bovine Meat</td>\n",
       "      <td>2018</td>\n",
       "      <td>2018</td>\n",
       "      <td>g/capita/day</td>\n",
       "      <td>1.09</td>\n",
       "      <td>Fc</td>\n",
       "      <td>Calculated data</td>\n",
       "    </tr>\n",
       "  </tbody>\n",
       "</table>\n",
       "</div>"
      ],
      "text/plain": [
       "  Domain Code                 Domain  Area Code (FAO)         Area  \\\n",
       "0         FBS  Food Balances (2010-)                2  Afghanistan   \n",
       "1         FBS  Food Balances (2010-)                2  Afghanistan   \n",
       "2         FBS  Food Balances (2010-)                2  Afghanistan   \n",
       "3         FBS  Food Balances (2010-)                2  Afghanistan   \n",
       "4         FBS  Food Balances (2010-)                2  Afghanistan   \n",
       "\n",
       "   Element Code                                 Element  Item Code  \\\n",
       "0           645     Food supply quantity (kg/capita/yr)       2731   \n",
       "1           645     Food supply quantity (kg/capita/yr)       2731   \n",
       "2           664           Food supply (kcal/capita/day)       2731   \n",
       "3           664           Food supply (kcal/capita/day)       2731   \n",
       "4           674  Protein supply quantity (g/capita/day)       2731   \n",
       "\n",
       "          Item  Year Code  Year             Unit  Value Flag Flag Description  \n",
       "0  Bovine Meat       2018  2018               kg   2.62   Fc  Calculated data  \n",
       "1  Bovine Meat       2019  2019               kg   2.65   Fc  Calculated data  \n",
       "2  Bovine Meat       2018  2018  kcal/capita/day  15.00   Fc  Calculated data  \n",
       "3  Bovine Meat       2019  2019  kcal/capita/day  16.00   Fc  Calculated data  \n",
       "4  Bovine Meat       2018  2018     g/capita/day   1.09   Fc  Calculated data  "
      ]
     },
     "execution_count": 1126,
     "metadata": {},
     "output_type": "execute_result"
    }
   ],
   "source": [
    "#Affiche les 5 premières lignes\n",
    "df_anim.head()"
   ]
  },
  {
   "cell_type": "markdown",
   "metadata": {},
   "source": [
    "Dimension dataframe poduits végetals et 5 premières lignes"
   ]
  },
  {
   "cell_type": "code",
   "execution_count": 1127,
   "metadata": {},
   "outputs": [
    {
     "data": {
      "text/plain": [
       "(91068, 14)"
      ]
     },
     "execution_count": 1127,
     "metadata": {},
     "output_type": "execute_result"
    }
   ],
   "source": [
    "#Affiche les dimensions\n",
    "df_veg.shape"
   ]
  },
  {
   "cell_type": "code",
   "execution_count": 1128,
   "metadata": {},
   "outputs": [
    {
     "data": {
      "text/html": [
       "<div>\n",
       "<style scoped>\n",
       "    .dataframe tbody tr th:only-of-type {\n",
       "        vertical-align: middle;\n",
       "    }\n",
       "\n",
       "    .dataframe tbody tr th {\n",
       "        vertical-align: top;\n",
       "    }\n",
       "\n",
       "    .dataframe thead th {\n",
       "        text-align: right;\n",
       "    }\n",
       "</style>\n",
       "<table border=\"1\" class=\"dataframe\">\n",
       "  <thead>\n",
       "    <tr style=\"text-align: right;\">\n",
       "      <th></th>\n",
       "      <th>Domain Code</th>\n",
       "      <th>Domain</th>\n",
       "      <th>Area Code (FAO)</th>\n",
       "      <th>Area</th>\n",
       "      <th>Element Code</th>\n",
       "      <th>Element</th>\n",
       "      <th>Item Code</th>\n",
       "      <th>Item</th>\n",
       "      <th>Year Code</th>\n",
       "      <th>Year</th>\n",
       "      <th>Unit</th>\n",
       "      <th>Value</th>\n",
       "      <th>Flag</th>\n",
       "      <th>Flag Description</th>\n",
       "    </tr>\n",
       "  </thead>\n",
       "  <tbody>\n",
       "    <tr>\n",
       "      <th>0</th>\n",
       "      <td>FBS</td>\n",
       "      <td>Food Balances (2010-)</td>\n",
       "      <td>2</td>\n",
       "      <td>Afghanistan</td>\n",
       "      <td>645</td>\n",
       "      <td>Food supply quantity (kg/capita/yr)</td>\n",
       "      <td>2511</td>\n",
       "      <td>Wheat and products</td>\n",
       "      <td>2018</td>\n",
       "      <td>2018</td>\n",
       "      <td>kg</td>\n",
       "      <td>160.12</td>\n",
       "      <td>Fc</td>\n",
       "      <td>Calculated data</td>\n",
       "    </tr>\n",
       "    <tr>\n",
       "      <th>1</th>\n",
       "      <td>FBS</td>\n",
       "      <td>Food Balances (2010-)</td>\n",
       "      <td>2</td>\n",
       "      <td>Afghanistan</td>\n",
       "      <td>645</td>\n",
       "      <td>Food supply quantity (kg/capita/yr)</td>\n",
       "      <td>2511</td>\n",
       "      <td>Wheat and products</td>\n",
       "      <td>2019</td>\n",
       "      <td>2019</td>\n",
       "      <td>kg</td>\n",
       "      <td>161.93</td>\n",
       "      <td>Fc</td>\n",
       "      <td>Calculated data</td>\n",
       "    </tr>\n",
       "    <tr>\n",
       "      <th>2</th>\n",
       "      <td>FBS</td>\n",
       "      <td>Food Balances (2010-)</td>\n",
       "      <td>2</td>\n",
       "      <td>Afghanistan</td>\n",
       "      <td>664</td>\n",
       "      <td>Food supply (kcal/capita/day)</td>\n",
       "      <td>2511</td>\n",
       "      <td>Wheat and products</td>\n",
       "      <td>2018</td>\n",
       "      <td>2018</td>\n",
       "      <td>kcal/capita/day</td>\n",
       "      <td>1372.00</td>\n",
       "      <td>Fc</td>\n",
       "      <td>Calculated data</td>\n",
       "    </tr>\n",
       "    <tr>\n",
       "      <th>3</th>\n",
       "      <td>FBS</td>\n",
       "      <td>Food Balances (2010-)</td>\n",
       "      <td>2</td>\n",
       "      <td>Afghanistan</td>\n",
       "      <td>664</td>\n",
       "      <td>Food supply (kcal/capita/day)</td>\n",
       "      <td>2511</td>\n",
       "      <td>Wheat and products</td>\n",
       "      <td>2019</td>\n",
       "      <td>2019</td>\n",
       "      <td>kcal/capita/day</td>\n",
       "      <td>1387.00</td>\n",
       "      <td>Fc</td>\n",
       "      <td>Calculated data</td>\n",
       "    </tr>\n",
       "    <tr>\n",
       "      <th>4</th>\n",
       "      <td>FBS</td>\n",
       "      <td>Food Balances (2010-)</td>\n",
       "      <td>2</td>\n",
       "      <td>Afghanistan</td>\n",
       "      <td>674</td>\n",
       "      <td>Protein supply quantity (g/capita/day)</td>\n",
       "      <td>2511</td>\n",
       "      <td>Wheat and products</td>\n",
       "      <td>2018</td>\n",
       "      <td>2018</td>\n",
       "      <td>g/capita/day</td>\n",
       "      <td>37.00</td>\n",
       "      <td>Fc</td>\n",
       "      <td>Calculated data</td>\n",
       "    </tr>\n",
       "  </tbody>\n",
       "</table>\n",
       "</div>"
      ],
      "text/plain": [
       "  Domain Code                 Domain  Area Code (FAO)         Area  \\\n",
       "0         FBS  Food Balances (2010-)                2  Afghanistan   \n",
       "1         FBS  Food Balances (2010-)                2  Afghanistan   \n",
       "2         FBS  Food Balances (2010-)                2  Afghanistan   \n",
       "3         FBS  Food Balances (2010-)                2  Afghanistan   \n",
       "4         FBS  Food Balances (2010-)                2  Afghanistan   \n",
       "\n",
       "   Element Code                                 Element  Item Code  \\\n",
       "0           645     Food supply quantity (kg/capita/yr)       2511   \n",
       "1           645     Food supply quantity (kg/capita/yr)       2511   \n",
       "2           664           Food supply (kcal/capita/day)       2511   \n",
       "3           664           Food supply (kcal/capita/day)       2511   \n",
       "4           674  Protein supply quantity (g/capita/day)       2511   \n",
       "\n",
       "                 Item  Year Code  Year             Unit    Value Flag  \\\n",
       "0  Wheat and products       2018  2018               kg   160.12   Fc   \n",
       "1  Wheat and products       2019  2019               kg   161.93   Fc   \n",
       "2  Wheat and products       2018  2018  kcal/capita/day  1372.00   Fc   \n",
       "3  Wheat and products       2019  2019  kcal/capita/day  1387.00   Fc   \n",
       "4  Wheat and products       2018  2018     g/capita/day    37.00   Fc   \n",
       "\n",
       "  Flag Description  \n",
       "0  Calculated data  \n",
       "1  Calculated data  \n",
       "2  Calculated data  \n",
       "3  Calculated data  \n",
       "4  Calculated data  "
      ]
     },
     "execution_count": 1128,
     "metadata": {},
     "output_type": "execute_result"
    }
   ],
   "source": [
    "#Affiche les 5premières lignes\n",
    "df_veg.head()"
   ]
  },
  {
   "cell_type": "markdown",
   "metadata": {},
   "source": [
    "### Question n°4"
   ]
  },
  {
   "cell_type": "markdown",
   "metadata": {},
   "source": [
    "Ajout d'une colonne type pour le dataframe des produits animals et vegetals"
   ]
  },
  {
   "cell_type": "code",
   "execution_count": 1129,
   "metadata": {},
   "outputs": [],
   "source": [
    "df_anim[\"type\"] = \"animal\""
   ]
  },
  {
   "cell_type": "code",
   "execution_count": 1130,
   "metadata": {},
   "outputs": [],
   "source": [
    "df_veg[\"type\"] = \"vegetal\""
   ]
  },
  {
   "cell_type": "markdown",
   "metadata": {},
   "source": [
    "Regrouper df_anim et df_veg"
   ]
  },
  {
   "cell_type": "code",
   "execution_count": 1131,
   "metadata": {},
   "outputs": [],
   "source": [
    "df_product = pd.concat([df_anim, df_veg])"
   ]
  },
  {
   "cell_type": "markdown",
   "metadata": {},
   "source": [
    "### Question n°5"
   ]
  },
  {
   "cell_type": "code",
   "execution_count": 1132,
   "metadata": {},
   "outputs": [],
   "source": [
    "df_pop =df_pop.loc[:,['Area Code (FAO)','Area','Year','Value']]\n",
    "df_pop.rename(columns ={\"Value\":\"pop_1000_hab\"},inplace = True)"
   ]
  },
  {
   "cell_type": "markdown",
   "metadata": {},
   "source": [
    "### Question n°1 (Suite)\n"
   ]
  },
  {
   "cell_type": "code",
   "execution_count": 1133,
   "metadata": {},
   "outputs": [
    {
     "data": {
      "text/html": [
       "<div>\n",
       "<style scoped>\n",
       "    .dataframe tbody tr th:only-of-type {\n",
       "        vertical-align: middle;\n",
       "    }\n",
       "\n",
       "    .dataframe tbody tr th {\n",
       "        vertical-align: top;\n",
       "    }\n",
       "\n",
       "    .dataframe thead th {\n",
       "        text-align: right;\n",
       "    }\n",
       "</style>\n",
       "<table border=\"1\" class=\"dataframe\">\n",
       "  <thead>\n",
       "    <tr style=\"text-align: right;\">\n",
       "      <th></th>\n",
       "      <th>area_code_(fao)</th>\n",
       "      <th>area</th>\n",
       "      <th>year</th>\n",
       "      <th>pop_1000_hab</th>\n",
       "    </tr>\n",
       "  </thead>\n",
       "  <tbody>\n",
       "    <tr>\n",
       "      <th>0</th>\n",
       "      <td>2</td>\n",
       "      <td>Afghanistan</td>\n",
       "      <td>2018</td>\n",
       "      <td>37172.0</td>\n",
       "    </tr>\n",
       "    <tr>\n",
       "      <th>1</th>\n",
       "      <td>2</td>\n",
       "      <td>Afghanistan</td>\n",
       "      <td>2019</td>\n",
       "      <td>38042.0</td>\n",
       "    </tr>\n",
       "    <tr>\n",
       "      <th>2</th>\n",
       "      <td>3</td>\n",
       "      <td>Albania</td>\n",
       "      <td>2018</td>\n",
       "      <td>2883.0</td>\n",
       "    </tr>\n",
       "    <tr>\n",
       "      <th>3</th>\n",
       "      <td>3</td>\n",
       "      <td>Albania</td>\n",
       "      <td>2019</td>\n",
       "      <td>2881.0</td>\n",
       "    </tr>\n",
       "    <tr>\n",
       "      <th>4</th>\n",
       "      <td>4</td>\n",
       "      <td>Algeria</td>\n",
       "      <td>2018</td>\n",
       "      <td>42228.0</td>\n",
       "    </tr>\n",
       "    <tr>\n",
       "      <th>...</th>\n",
       "      <td>...</td>\n",
       "      <td>...</td>\n",
       "      <td>...</td>\n",
       "      <td>...</td>\n",
       "    </tr>\n",
       "    <tr>\n",
       "      <th>353</th>\n",
       "      <td>249</td>\n",
       "      <td>Yemen</td>\n",
       "      <td>2019</td>\n",
       "      <td>29162.0</td>\n",
       "    </tr>\n",
       "    <tr>\n",
       "      <th>354</th>\n",
       "      <td>251</td>\n",
       "      <td>Zambia</td>\n",
       "      <td>2018</td>\n",
       "      <td>17352.0</td>\n",
       "    </tr>\n",
       "    <tr>\n",
       "      <th>355</th>\n",
       "      <td>251</td>\n",
       "      <td>Zambia</td>\n",
       "      <td>2019</td>\n",
       "      <td>17861.0</td>\n",
       "    </tr>\n",
       "    <tr>\n",
       "      <th>356</th>\n",
       "      <td>181</td>\n",
       "      <td>Zimbabwe</td>\n",
       "      <td>2018</td>\n",
       "      <td>14439.0</td>\n",
       "    </tr>\n",
       "    <tr>\n",
       "      <th>357</th>\n",
       "      <td>181</td>\n",
       "      <td>Zimbabwe</td>\n",
       "      <td>2019</td>\n",
       "      <td>14645.0</td>\n",
       "    </tr>\n",
       "  </tbody>\n",
       "</table>\n",
       "<p>358 rows × 4 columns</p>\n",
       "</div>"
      ],
      "text/plain": [
       "     area_code_(fao)         area  year  pop_1000_hab\n",
       "0                  2  Afghanistan  2018       37172.0\n",
       "1                  2  Afghanistan  2019       38042.0\n",
       "2                  3      Albania  2018        2883.0\n",
       "3                  3      Albania  2019        2881.0\n",
       "4                  4      Algeria  2018       42228.0\n",
       "..               ...          ...   ...           ...\n",
       "353              249        Yemen  2019       29162.0\n",
       "354              251       Zambia  2018       17352.0\n",
       "355              251       Zambia  2019       17861.0\n",
       "356              181     Zimbabwe  2018       14439.0\n",
       "357              181     Zimbabwe  2019       14645.0\n",
       "\n",
       "[358 rows x 4 columns]"
      ]
     },
     "execution_count": 1133,
     "metadata": {},
     "output_type": "execute_result"
    }
   ],
   "source": [
    "for dataframe in [df_pop,df_product]:\n",
    "    for column_name in dataframe.columns:\n",
    "        dataframe.rename(columns ={column_name:nettoyage_nom_colonne(column_name)},inplace = True)\n",
    "    \n",
    "df_pop"
   ]
  },
  {
   "cell_type": "markdown",
   "metadata": {},
   "source": [
    "### Question n°6"
   ]
  },
  {
   "cell_type": "code",
   "execution_count": 1134,
   "metadata": {},
   "outputs": [],
   "source": [
    "df_product =df_product.loc[:,[\"area_code_(fao)\", \"area\", \"element\", \"item\", \"year\", \"type\", \"unit\",\"value\"]]"
   ]
  },
  {
   "cell_type": "markdown",
   "metadata": {},
   "source": [
    "### Question n°7"
   ]
  },
  {
   "cell_type": "code",
   "execution_count": 1135,
   "metadata": {},
   "outputs": [
    {
     "data": {
      "text/html": [
       "<div>\n",
       "<style scoped>\n",
       "    .dataframe tbody tr th:only-of-type {\n",
       "        vertical-align: middle;\n",
       "    }\n",
       "\n",
       "    .dataframe tbody tr th {\n",
       "        vertical-align: top;\n",
       "    }\n",
       "\n",
       "    .dataframe thead th {\n",
       "        text-align: right;\n",
       "    }\n",
       "</style>\n",
       "<table border=\"1\" class=\"dataframe\">\n",
       "  <thead>\n",
       "    <tr style=\"text-align: right;\">\n",
       "      <th></th>\n",
       "      <th>area_code_(fao)</th>\n",
       "      <th>area</th>\n",
       "      <th>year</th>\n",
       "      <th>pop_1000_hab</th>\n",
       "      <th>element</th>\n",
       "      <th>item</th>\n",
       "      <th>type</th>\n",
       "      <th>unit</th>\n",
       "      <th>value</th>\n",
       "    </tr>\n",
       "  </thead>\n",
       "  <tbody>\n",
       "    <tr>\n",
       "      <th>0</th>\n",
       "      <td>2</td>\n",
       "      <td>Afghanistan</td>\n",
       "      <td>2018</td>\n",
       "      <td>37172.0</td>\n",
       "      <td>Food supply quantity (kg/capita/yr)</td>\n",
       "      <td>Bovine Meat</td>\n",
       "      <td>animal</td>\n",
       "      <td>kg</td>\n",
       "      <td>2.62</td>\n",
       "    </tr>\n",
       "    <tr>\n",
       "      <th>1</th>\n",
       "      <td>2</td>\n",
       "      <td>Afghanistan</td>\n",
       "      <td>2018</td>\n",
       "      <td>37172.0</td>\n",
       "      <td>Food supply (kcal/capita/day)</td>\n",
       "      <td>Bovine Meat</td>\n",
       "      <td>animal</td>\n",
       "      <td>kcal/capita/day</td>\n",
       "      <td>15.00</td>\n",
       "    </tr>\n",
       "    <tr>\n",
       "      <th>2</th>\n",
       "      <td>2</td>\n",
       "      <td>Afghanistan</td>\n",
       "      <td>2018</td>\n",
       "      <td>37172.0</td>\n",
       "      <td>Protein supply quantity (g/capita/day)</td>\n",
       "      <td>Bovine Meat</td>\n",
       "      <td>animal</td>\n",
       "      <td>g/capita/day</td>\n",
       "      <td>1.09</td>\n",
       "    </tr>\n",
       "    <tr>\n",
       "      <th>3</th>\n",
       "      <td>2</td>\n",
       "      <td>Afghanistan</td>\n",
       "      <td>2018</td>\n",
       "      <td>37172.0</td>\n",
       "      <td>Fat supply quantity (g/capita/day)</td>\n",
       "      <td>Bovine Meat</td>\n",
       "      <td>animal</td>\n",
       "      <td>g/capita/day</td>\n",
       "      <td>1.20</td>\n",
       "    </tr>\n",
       "    <tr>\n",
       "      <th>4</th>\n",
       "      <td>2</td>\n",
       "      <td>Afghanistan</td>\n",
       "      <td>2018</td>\n",
       "      <td>37172.0</td>\n",
       "      <td>Food supply quantity (kg/capita/yr)</td>\n",
       "      <td>Mutton &amp; Goat Meat</td>\n",
       "      <td>animal</td>\n",
       "      <td>kg</td>\n",
       "      <td>4.26</td>\n",
       "    </tr>\n",
       "    <tr>\n",
       "      <th>...</th>\n",
       "      <td>...</td>\n",
       "      <td>...</td>\n",
       "      <td>...</td>\n",
       "      <td>...</td>\n",
       "      <td>...</td>\n",
       "      <td>...</td>\n",
       "      <td>...</td>\n",
       "      <td>...</td>\n",
       "      <td>...</td>\n",
       "    </tr>\n",
       "    <tr>\n",
       "      <th>121960</th>\n",
       "      <td>181</td>\n",
       "      <td>Zimbabwe</td>\n",
       "      <td>2019</td>\n",
       "      <td>14645.0</td>\n",
       "      <td>Fat supply quantity (g/capita/day)</td>\n",
       "      <td>Infant food</td>\n",
       "      <td>vegetal</td>\n",
       "      <td>g/capita/day</td>\n",
       "      <td>0.00</td>\n",
       "    </tr>\n",
       "    <tr>\n",
       "      <th>121961</th>\n",
       "      <td>181</td>\n",
       "      <td>Zimbabwe</td>\n",
       "      <td>2019</td>\n",
       "      <td>14645.0</td>\n",
       "      <td>Food supply quantity (kg/capita/yr)</td>\n",
       "      <td>Miscellaneous</td>\n",
       "      <td>vegetal</td>\n",
       "      <td>kg</td>\n",
       "      <td>2.11</td>\n",
       "    </tr>\n",
       "    <tr>\n",
       "      <th>121962</th>\n",
       "      <td>181</td>\n",
       "      <td>Zimbabwe</td>\n",
       "      <td>2019</td>\n",
       "      <td>14645.0</td>\n",
       "      <td>Food supply (kcal/capita/day)</td>\n",
       "      <td>Miscellaneous</td>\n",
       "      <td>vegetal</td>\n",
       "      <td>kcal/capita/day</td>\n",
       "      <td>2.00</td>\n",
       "    </tr>\n",
       "    <tr>\n",
       "      <th>121963</th>\n",
       "      <td>181</td>\n",
       "      <td>Zimbabwe</td>\n",
       "      <td>2019</td>\n",
       "      <td>14645.0</td>\n",
       "      <td>Protein supply quantity (g/capita/day)</td>\n",
       "      <td>Miscellaneous</td>\n",
       "      <td>vegetal</td>\n",
       "      <td>g/capita/day</td>\n",
       "      <td>0.07</td>\n",
       "    </tr>\n",
       "    <tr>\n",
       "      <th>121964</th>\n",
       "      <td>181</td>\n",
       "      <td>Zimbabwe</td>\n",
       "      <td>2019</td>\n",
       "      <td>14645.0</td>\n",
       "      <td>Fat supply quantity (g/capita/day)</td>\n",
       "      <td>Miscellaneous</td>\n",
       "      <td>vegetal</td>\n",
       "      <td>g/capita/day</td>\n",
       "      <td>0.03</td>\n",
       "    </tr>\n",
       "  </tbody>\n",
       "</table>\n",
       "<p>121965 rows × 9 columns</p>\n",
       "</div>"
      ],
      "text/plain": [
       "        area_code_(fao)         area  year  pop_1000_hab  \\\n",
       "0                     2  Afghanistan  2018       37172.0   \n",
       "1                     2  Afghanistan  2018       37172.0   \n",
       "2                     2  Afghanistan  2018       37172.0   \n",
       "3                     2  Afghanistan  2018       37172.0   \n",
       "4                     2  Afghanistan  2018       37172.0   \n",
       "...                 ...          ...   ...           ...   \n",
       "121960              181     Zimbabwe  2019       14645.0   \n",
       "121961              181     Zimbabwe  2019       14645.0   \n",
       "121962              181     Zimbabwe  2019       14645.0   \n",
       "121963              181     Zimbabwe  2019       14645.0   \n",
       "121964              181     Zimbabwe  2019       14645.0   \n",
       "\n",
       "                                       element                item     type  \\\n",
       "0          Food supply quantity (kg/capita/yr)         Bovine Meat   animal   \n",
       "1                Food supply (kcal/capita/day)         Bovine Meat   animal   \n",
       "2       Protein supply quantity (g/capita/day)         Bovine Meat   animal   \n",
       "3           Fat supply quantity (g/capita/day)         Bovine Meat   animal   \n",
       "4          Food supply quantity (kg/capita/yr)  Mutton & Goat Meat   animal   \n",
       "...                                        ...                 ...      ...   \n",
       "121960      Fat supply quantity (g/capita/day)         Infant food  vegetal   \n",
       "121961     Food supply quantity (kg/capita/yr)       Miscellaneous  vegetal   \n",
       "121962           Food supply (kcal/capita/day)       Miscellaneous  vegetal   \n",
       "121963  Protein supply quantity (g/capita/day)       Miscellaneous  vegetal   \n",
       "121964      Fat supply quantity (g/capita/day)       Miscellaneous  vegetal   \n",
       "\n",
       "                   unit  value  \n",
       "0                    kg   2.62  \n",
       "1       kcal/capita/day  15.00  \n",
       "2          g/capita/day   1.09  \n",
       "3          g/capita/day   1.20  \n",
       "4                    kg   4.26  \n",
       "...                 ...    ...  \n",
       "121960     g/capita/day   0.00  \n",
       "121961               kg   2.11  \n",
       "121962  kcal/capita/day   2.00  \n",
       "121963     g/capita/day   0.07  \n",
       "121964     g/capita/day   0.03  \n",
       "\n",
       "[121965 rows x 9 columns]"
      ]
     },
     "execution_count": 1135,
     "metadata": {},
     "output_type": "execute_result"
    }
   ],
   "source": [
    "#fusion des dataframes df_product et df_pop\n",
    "df = df_pop.merge(df_product,on=[\"area_code_(fao)\",\"year\",\"area\"])\n",
    "df"
   ]
  },
  {
   "cell_type": "markdown",
   "metadata": {},
   "source": [
    "### Question n°8"
   ]
  },
  {
   "cell_type": "code",
   "execution_count": 1136,
   "metadata": {},
   "outputs": [
    {
     "name": "stdout",
     "output_type": "stream",
     "text": [
      "<class 'pandas.core.frame.DataFrame'>\n",
      "Int64Index: 121965 entries, 0 to 121964\n",
      "Data columns (total 9 columns):\n",
      " #   Column           Non-Null Count   Dtype  \n",
      "---  ------           --------------   -----  \n",
      " 0   area_code_(fao)  121965 non-null  int64  \n",
      " 1   area             121965 non-null  object \n",
      " 2   year             121965 non-null  int64  \n",
      " 3   pop_1000_hab     121965 non-null  float64\n",
      " 4   element          121965 non-null  object \n",
      " 5   item             121965 non-null  object \n",
      " 6   type             121965 non-null  object \n",
      " 7   unit             121965 non-null  object \n",
      " 8   value            121965 non-null  float64\n",
      "dtypes: float64(2), int64(2), object(5)\n",
      "memory usage: 9.3+ MB\n"
     ]
    }
   ],
   "source": [
    "df.info()\n"
   ]
  },
  {
   "cell_type": "code",
   "execution_count": 1137,
   "metadata": {},
   "outputs": [
    {
     "data": {
      "text/plain": [
       "0         37172\n",
       "1         37172\n",
       "2         37172\n",
       "3         37172\n",
       "4         37172\n",
       "          ...  \n",
       "121960    14645\n",
       "121961    14645\n",
       "121962    14645\n",
       "121963    14645\n",
       "121964    14645\n",
       "Name: pop_1000_hab, Length: 121965, dtype: int64"
      ]
     },
     "execution_count": 1137,
     "metadata": {},
     "output_type": "execute_result"
    }
   ],
   "source": [
    "df.pop_1000_hab.astype(int)"
   ]
  },
  {
   "cell_type": "markdown",
   "metadata": {},
   "source": [
    "### Question n°9"
   ]
  },
  {
   "cell_type": "code",
   "execution_count": 1138,
   "metadata": {},
   "outputs": [],
   "source": [
    "import missingno as msno"
   ]
  },
  {
   "cell_type": "code",
   "execution_count": 1139,
   "metadata": {},
   "outputs": [
    {
     "name": "stdout",
     "output_type": "stream",
     "text": [
      "area_code_(fao) 0\n",
      "area 0\n",
      "year 0\n",
      "pop_1000_hab 0\n",
      "element 0\n",
      "item 0\n",
      "type 0\n",
      "unit 0\n",
      "value 0\n"
     ]
    }
   ],
   "source": [
    "for column_name in df.columns:\n",
    "    print(column_name,df[column_name].isna().sum())"
   ]
  },
  {
   "cell_type": "code",
   "execution_count": 1140,
   "metadata": {},
   "outputs": [
    {
     "data": {
      "text/plain": [
       "<AxesSubplot:>"
      ]
     },
     "execution_count": 1140,
     "metadata": {},
     "output_type": "execute_result"
    },
    {
     "data": {
      "image/png": "[encoded data removed]",
      "text/plain": [
       "<Figure size 1800x720 with 2 Axes>"
      ]
     },
     "metadata": {
      "needs_background": "light"
     },
     "output_type": "display_data"
    }
   ],
   "source": [
    "# Visualisation des valeurs manquantes grâce à la libraire missingno\n",
    "msno.matrix(df)"
   ]
  },
  {
   "cell_type": "markdown",
   "metadata": {},
   "source": [
    "### Question n°10"
   ]
  },
  {
   "cell_type": "code",
   "execution_count": 1141,
   "metadata": {},
   "outputs": [
    {
     "data": {
      "text/html": [
       "<div>\n",
       "<style scoped>\n",
       "    .dataframe tbody tr th:only-of-type {\n",
       "        vertical-align: middle;\n",
       "    }\n",
       "\n",
       "    .dataframe tbody tr th {\n",
       "        vertical-align: top;\n",
       "    }\n",
       "\n",
       "    .dataframe thead th {\n",
       "        text-align: right;\n",
       "    }\n",
       "</style>\n",
       "<table border=\"1\" class=\"dataframe\">\n",
       "  <thead>\n",
       "    <tr style=\"text-align: right;\">\n",
       "      <th></th>\n",
       "      <th>area_code_(fao)</th>\n",
       "      <th>year</th>\n",
       "      <th>pop_1000_hab</th>\n",
       "      <th>value</th>\n",
       "    </tr>\n",
       "  </thead>\n",
       "  <tbody>\n",
       "    <tr>\n",
       "      <th>count</th>\n",
       "      <td>121965.000000</td>\n",
       "      <td>121965.000000</td>\n",
       "      <td>1.219650e+05</td>\n",
       "      <td>121965.000000</td>\n",
       "    </tr>\n",
       "    <tr>\n",
       "      <th>mean</th>\n",
       "      <td>127.332899</td>\n",
       "      <td>2018.499889</td>\n",
       "      <td>4.369155e+04</td>\n",
       "      <td>10.952411</td>\n",
       "    </tr>\n",
       "    <tr>\n",
       "      <th>std</th>\n",
       "      <td>73.062851</td>\n",
       "      <td>0.500002</td>\n",
       "      <td>1.538962e+05</td>\n",
       "      <td>56.049315</td>\n",
       "    </tr>\n",
       "    <tr>\n",
       "      <th>min</th>\n",
       "      <td>1.000000</td>\n",
       "      <td>2018.000000</td>\n",
       "      <td>5.200000e+01</td>\n",
       "      <td>-0.030000</td>\n",
       "    </tr>\n",
       "    <tr>\n",
       "      <th>25%</th>\n",
       "      <td>66.000000</td>\n",
       "      <td>2018.000000</td>\n",
       "      <td>2.883000e+03</td>\n",
       "      <td>0.000000</td>\n",
       "    </tr>\n",
       "    <tr>\n",
       "      <th>50%</th>\n",
       "      <td>123.000000</td>\n",
       "      <td>2018.000000</td>\n",
       "      <td>9.972000e+03</td>\n",
       "      <td>0.150000</td>\n",
       "    </tr>\n",
       "    <tr>\n",
       "      <th>75%</th>\n",
       "      <td>191.000000</td>\n",
       "      <td>2019.000000</td>\n",
       "      <td>3.182500e+04</td>\n",
       "      <td>2.900000</td>\n",
       "    </tr>\n",
       "    <tr>\n",
       "      <th>max</th>\n",
       "      <td>276.000000</td>\n",
       "      <td>2019.000000</td>\n",
       "      <td>1.433784e+06</td>\n",
       "      <td>1787.000000</td>\n",
       "    </tr>\n",
       "  </tbody>\n",
       "</table>\n",
       "</div>"
      ],
      "text/plain": [
       "       area_code_(fao)           year  pop_1000_hab          value\n",
       "count    121965.000000  121965.000000  1.219650e+05  121965.000000\n",
       "mean        127.332899    2018.499889  4.369155e+04      10.952411\n",
       "std          73.062851       0.500002  1.538962e+05      56.049315\n",
       "min           1.000000    2018.000000  5.200000e+01      -0.030000\n",
       "25%          66.000000    2018.000000  2.883000e+03       0.000000\n",
       "50%         123.000000    2018.000000  9.972000e+03       0.150000\n",
       "75%         191.000000    2019.000000  3.182500e+04       2.900000\n",
       "max         276.000000    2019.000000  1.433784e+06    1787.000000"
      ]
     },
     "execution_count": 1141,
     "metadata": {},
     "output_type": "execute_result"
    }
   ],
   "source": [
    "df.describe()"
   ]
  },
  {
   "cell_type": "markdown",
   "metadata": {},
   "source": [
    "### Question n°11"
   ]
  },
  {
   "cell_type": "code",
   "execution_count": 1142,
   "metadata": {},
   "outputs": [
    {
     "data": {
      "text/plain": [
       "Nepal              748\n",
       "Senegal            744\n",
       "Uganda             740\n",
       "Sudan              740\n",
       "Nigeria            734\n",
       "                  ... \n",
       "North Macedonia    628\n",
       "Kiribati           624\n",
       "Afghanistan        622\n",
       "Timor-Leste        604\n",
       "Turkmenistan       564\n",
       "Name: area, Length: 179, dtype: int64"
      ]
     },
     "execution_count": 1142,
     "metadata": {},
     "output_type": "execute_result"
    }
   ],
   "source": [
    "df.area.value_counts()"
   ]
  },
  {
   "cell_type": "markdown",
   "metadata": {},
   "source": [
    "### Question n°13"
   ]
  },
  {
   "cell_type": "code",
   "execution_count": 1143,
   "metadata": {},
   "outputs": [],
   "source": [
    "df =df.pivot_table(index=[\"area_code_(fao)\", \"area\", \"year\", \"pop_1000_hab\",\"item\"],columns=\"element\",values=\"value\")"
   ]
  },
  {
   "cell_type": "code",
   "execution_count": 1144,
   "metadata": {},
   "outputs": [],
   "source": [
    "df = df.reset_index()"
   ]
  },
  {
   "cell_type": "markdown",
   "metadata": {},
   "source": [
    "### Question n°14"
   ]
  },
  {
   "cell_type": "code",
   "execution_count": 1145,
   "metadata": {},
   "outputs": [],
   "source": [
    "df.rename(columns={\"area_code_(fao)\":\"code_contry\"},inplace=True)\n",
    "df.rename(columns={\"area\":\"contry\"},inplace=True)\n"
   ]
  },
  {
   "cell_type": "markdown",
   "metadata": {},
   "source": [
    "### Question n°15"
   ]
  },
  {
   "cell_type": "code",
   "execution_count": 1146,
   "metadata": {},
   "outputs": [
    {
     "data": {
      "text/html": [
       "<div>\n",
       "<style scoped>\n",
       "    .dataframe tbody tr th:only-of-type {\n",
       "        vertical-align: middle;\n",
       "    }\n",
       "\n",
       "    .dataframe tbody tr th {\n",
       "        vertical-align: top;\n",
       "    }\n",
       "\n",
       "    .dataframe thead th {\n",
       "        text-align: right;\n",
       "    }\n",
       "</style>\n",
       "<table border=\"1\" class=\"dataframe\">\n",
       "  <thead>\n",
       "    <tr style=\"text-align: right;\">\n",
       "      <th>element</th>\n",
       "      <th>code_contry</th>\n",
       "      <th>contry</th>\n",
       "      <th>year</th>\n",
       "      <th>pop_1000_hab</th>\n",
       "      <th>item</th>\n",
       "      <th>Fat supply quantity (g/capita/day)</th>\n",
       "      <th>Food supply (kcal/capita/day)</th>\n",
       "      <th>Food supply quantity (kg/capita/yr)</th>\n",
       "      <th>Protein supply quantity (g/capita/day)</th>\n",
       "    </tr>\n",
       "  </thead>\n",
       "  <tbody>\n",
       "    <tr>\n",
       "      <th>0</th>\n",
       "      <td>1</td>\n",
       "      <td>Armenia</td>\n",
       "      <td>2018</td>\n",
       "      <td>2952.0</td>\n",
       "      <td>Apples and products</td>\n",
       "      <td>0.12</td>\n",
       "      <td>20.0</td>\n",
       "      <td>14.49</td>\n",
       "      <td>0.05</td>\n",
       "    </tr>\n",
       "    <tr>\n",
       "      <th>1</th>\n",
       "      <td>1</td>\n",
       "      <td>Armenia</td>\n",
       "      <td>2018</td>\n",
       "      <td>2952.0</td>\n",
       "      <td>Aquatic Animals, Others</td>\n",
       "      <td>0.00</td>\n",
       "      <td>0.0</td>\n",
       "      <td>0.00</td>\n",
       "      <td>0.00</td>\n",
       "    </tr>\n",
       "    <tr>\n",
       "      <th>2</th>\n",
       "      <td>1</td>\n",
       "      <td>Armenia</td>\n",
       "      <td>2018</td>\n",
       "      <td>2952.0</td>\n",
       "      <td>Aquatic Plants</td>\n",
       "      <td>0.00</td>\n",
       "      <td>0.0</td>\n",
       "      <td>0.00</td>\n",
       "      <td>0.00</td>\n",
       "    </tr>\n",
       "    <tr>\n",
       "      <th>3</th>\n",
       "      <td>1</td>\n",
       "      <td>Armenia</td>\n",
       "      <td>2018</td>\n",
       "      <td>2952.0</td>\n",
       "      <td>Bananas</td>\n",
       "      <td>0.06</td>\n",
       "      <td>13.0</td>\n",
       "      <td>7.61</td>\n",
       "      <td>0.15</td>\n",
       "    </tr>\n",
       "    <tr>\n",
       "      <th>4</th>\n",
       "      <td>1</td>\n",
       "      <td>Armenia</td>\n",
       "      <td>2018</td>\n",
       "      <td>2952.0</td>\n",
       "      <td>Barley and products</td>\n",
       "      <td>0.03</td>\n",
       "      <td>6.0</td>\n",
       "      <td>0.72</td>\n",
       "      <td>0.20</td>\n",
       "    </tr>\n",
       "    <tr>\n",
       "      <th>...</th>\n",
       "      <td>...</td>\n",
       "      <td>...</td>\n",
       "      <td>...</td>\n",
       "      <td>...</td>\n",
       "      <td>...</td>\n",
       "      <td>...</td>\n",
       "      <td>...</td>\n",
       "      <td>...</td>\n",
       "      <td>...</td>\n",
       "    </tr>\n",
       "    <tr>\n",
       "      <th>30569</th>\n",
       "      <td>276</td>\n",
       "      <td>Sudan</td>\n",
       "      <td>2018</td>\n",
       "      <td>41802.0</td>\n",
       "      <td>Tomatoes and products</td>\n",
       "      <td>0.09</td>\n",
       "      <td>8.0</td>\n",
       "      <td>14.83</td>\n",
       "      <td>0.38</td>\n",
       "    </tr>\n",
       "    <tr>\n",
       "      <th>30570</th>\n",
       "      <td>276</td>\n",
       "      <td>Sudan</td>\n",
       "      <td>2018</td>\n",
       "      <td>41802.0</td>\n",
       "      <td>Vegetables, other</td>\n",
       "      <td>0.13</td>\n",
       "      <td>17.0</td>\n",
       "      <td>25.88</td>\n",
       "      <td>0.79</td>\n",
       "    </tr>\n",
       "    <tr>\n",
       "      <th>30571</th>\n",
       "      <td>276</td>\n",
       "      <td>Sudan</td>\n",
       "      <td>2018</td>\n",
       "      <td>41802.0</td>\n",
       "      <td>Wheat and products</td>\n",
       "      <td>1.68</td>\n",
       "      <td>549.0</td>\n",
       "      <td>63.20</td>\n",
       "      <td>16.43</td>\n",
       "    </tr>\n",
       "    <tr>\n",
       "      <th>30572</th>\n",
       "      <td>276</td>\n",
       "      <td>Sudan</td>\n",
       "      <td>2018</td>\n",
       "      <td>41802.0</td>\n",
       "      <td>Wine</td>\n",
       "      <td>0.00</td>\n",
       "      <td>0.0</td>\n",
       "      <td>0.00</td>\n",
       "      <td>0.00</td>\n",
       "    </tr>\n",
       "    <tr>\n",
       "      <th>30573</th>\n",
       "      <td>276</td>\n",
       "      <td>Sudan</td>\n",
       "      <td>2018</td>\n",
       "      <td>41802.0</td>\n",
       "      <td>Yams</td>\n",
       "      <td>0.02</td>\n",
       "      <td>12.0</td>\n",
       "      <td>4.20</td>\n",
       "      <td>0.15</td>\n",
       "    </tr>\n",
       "  </tbody>\n",
       "</table>\n",
       "<p>15332 rows × 9 columns</p>\n",
       "</div>"
      ],
      "text/plain": [
       "element  code_contry   contry  year  pop_1000_hab                     item  \\\n",
       "0                  1  Armenia  2018        2952.0      Apples and products   \n",
       "1                  1  Armenia  2018        2952.0  Aquatic Animals, Others   \n",
       "2                  1  Armenia  2018        2952.0           Aquatic Plants   \n",
       "3                  1  Armenia  2018        2952.0                  Bananas   \n",
       "4                  1  Armenia  2018        2952.0      Barley and products   \n",
       "...              ...      ...   ...           ...                      ...   \n",
       "30569            276    Sudan  2018       41802.0    Tomatoes and products   \n",
       "30570            276    Sudan  2018       41802.0        Vegetables, other   \n",
       "30571            276    Sudan  2018       41802.0       Wheat and products   \n",
       "30572            276    Sudan  2018       41802.0                     Wine   \n",
       "30573            276    Sudan  2018       41802.0                     Yams   \n",
       "\n",
       "element  Fat supply quantity (g/capita/day)  Food supply (kcal/capita/day)  \\\n",
       "0                                      0.12                           20.0   \n",
       "1                                      0.00                            0.0   \n",
       "2                                      0.00                            0.0   \n",
       "3                                      0.06                           13.0   \n",
       "4                                      0.03                            6.0   \n",
       "...                                     ...                            ...   \n",
       "30569                                  0.09                            8.0   \n",
       "30570                                  0.13                           17.0   \n",
       "30571                                  1.68                          549.0   \n",
       "30572                                  0.00                            0.0   \n",
       "30573                                  0.02                           12.0   \n",
       "\n",
       "element  Food supply quantity (kg/capita/yr)  \\\n",
       "0                                      14.49   \n",
       "1                                       0.00   \n",
       "2                                       0.00   \n",
       "3                                       7.61   \n",
       "4                                       0.72   \n",
       "...                                      ...   \n",
       "30569                                  14.83   \n",
       "30570                                  25.88   \n",
       "30571                                  63.20   \n",
       "30572                                   0.00   \n",
       "30573                                   4.20   \n",
       "\n",
       "element  Protein supply quantity (g/capita/day)  \n",
       "0                                          0.05  \n",
       "1                                          0.00  \n",
       "2                                          0.00  \n",
       "3                                          0.15  \n",
       "4                                          0.20  \n",
       "...                                         ...  \n",
       "30569                                      0.38  \n",
       "30570                                      0.79  \n",
       "30571                                     16.43  \n",
       "30572                                      0.00  \n",
       "30573                                      0.15  \n",
       "\n",
       "[15332 rows x 9 columns]"
      ]
     },
     "execution_count": 1146,
     "metadata": {},
     "output_type": "execute_result"
    }
   ],
   "source": [
    "mask_2018= df[\"year\"] == 2018\n",
    "df[mask_2018]"
   ]
  },
  {
   "cell_type": "markdown",
   "metadata": {},
   "source": [
    "### Question n°16"
   ]
  },
  {
   "cell_type": "code",
   "execution_count": 1148,
   "metadata": {},
   "outputs": [
    {
     "ename": "KeyError",
     "evalue": "'code_country'",
     "output_type": "error",
     "traceback": [
      "\u001b[0;31m---------------------------------------------------------------------------\u001b[0m",
      "\u001b[0;31mKeyError\u001b[0m                                  Traceback (most recent call last)",
      "\u001b[1;32m/home/steven59/Bureau/Projets/pandas/PremierPasPandas.ipynb Cell 55'\u001b[0m in \u001b[0;36m<cell line: 2>\u001b[0;34m()\u001b[0m\n\u001b[1;32m      <a href='vscode-notebook-cell:/home/steven59/Bureau/Projets/pandas/PremierPasPandas.ipynb#ch0000067?line=0'>1</a>\u001b[0m df_zone \u001b[39m=\u001b[39m pd\u001b[39m.\u001b[39mread_csv(\u001b[39m\"\u001b[39m\u001b[39mcsv/zone.csv\u001b[39m\u001b[39m\"\u001b[39m)\n\u001b[0;32m----> <a href='vscode-notebook-cell:/home/steven59/Bureau/Projets/pandas/PremierPasPandas.ipynb#ch0000067?line=1'>2</a>\u001b[0m df_merge \u001b[39m=\u001b[39m df\u001b[39m.\u001b[39;49mmerge(df_zone,on\u001b[39m=\u001b[39;49m\u001b[39m'\u001b[39;49m\u001b[39mcode_country\u001b[39;49m\u001b[39m'\u001b[39;49m)\n",
      "File \u001b[0;32m~/miniconda3/envs/sdp/lib/python3.10/site-packages/pandas/core/frame.py:9345\u001b[0m, in \u001b[0;36mDataFrame.merge\u001b[0;34m(self, right, how, on, left_on, right_on, left_index, right_index, sort, suffixes, copy, indicator, validate)\u001b[0m\n\u001b[1;32m   9326\u001b[0m \u001b[39m@Substitution\u001b[39m(\u001b[39m\"\u001b[39m\u001b[39m\"\u001b[39m)\n\u001b[1;32m   9327\u001b[0m \u001b[39m@Appender\u001b[39m(_merge_doc, indents\u001b[39m=\u001b[39m\u001b[39m2\u001b[39m)\n\u001b[1;32m   9328\u001b[0m \u001b[39mdef\u001b[39;00m \u001b[39mmerge\u001b[39m(\n\u001b[0;32m   (...)\u001b[0m\n\u001b[1;32m   9341\u001b[0m     validate: \u001b[39mstr\u001b[39m \u001b[39m|\u001b[39m \u001b[39mNone\u001b[39;00m \u001b[39m=\u001b[39m \u001b[39mNone\u001b[39;00m,\n\u001b[1;32m   9342\u001b[0m ) \u001b[39m-\u001b[39m\u001b[39m>\u001b[39m DataFrame:\n\u001b[1;32m   9343\u001b[0m     \u001b[39mfrom\u001b[39;00m \u001b[39mpandas\u001b[39;00m\u001b[39m.\u001b[39;00m\u001b[39mcore\u001b[39;00m\u001b[39m.\u001b[39;00m\u001b[39mreshape\u001b[39;00m\u001b[39m.\u001b[39;00m\u001b[39mmerge\u001b[39;00m \u001b[39mimport\u001b[39;00m merge\n\u001b[0;32m-> 9345\u001b[0m     \u001b[39mreturn\u001b[39;00m merge(\n\u001b[1;32m   9346\u001b[0m         \u001b[39mself\u001b[39;49m,\n\u001b[1;32m   9347\u001b[0m         right,\n\u001b[1;32m   9348\u001b[0m         how\u001b[39m=\u001b[39;49mhow,\n\u001b[1;32m   9349\u001b[0m         on\u001b[39m=\u001b[39;49mon,\n\u001b[1;32m   9350\u001b[0m         left_on\u001b[39m=\u001b[39;49mleft_on,\n\u001b[1;32m   9351\u001b[0m         right_on\u001b[39m=\u001b[39;49mright_on,\n\u001b[1;32m   9352\u001b[0m         left_index\u001b[39m=\u001b[39;49mleft_index,\n\u001b[1;32m   9353\u001b[0m         right_index\u001b[39m=\u001b[39;49mright_index,\n\u001b[1;32m   9354\u001b[0m         sort\u001b[39m=\u001b[39;49msort,\n\u001b[1;32m   9355\u001b[0m         suffixes\u001b[39m=\u001b[39;49msuffixes,\n\u001b[1;32m   9356\u001b[0m         copy\u001b[39m=\u001b[39;49mcopy,\n\u001b[1;32m   9357\u001b[0m         indicator\u001b[39m=\u001b[39;49mindicator,\n\u001b[1;32m   9358\u001b[0m         validate\u001b[39m=\u001b[39;49mvalidate,\n\u001b[1;32m   9359\u001b[0m     )\n",
      "File \u001b[0;32m~/miniconda3/envs/sdp/lib/python3.10/site-packages/pandas/core/reshape/merge.py:107\u001b[0m, in \u001b[0;36mmerge\u001b[0;34m(left, right, how, on, left_on, right_on, left_index, right_index, sort, suffixes, copy, indicator, validate)\u001b[0m\n\u001b[1;32m     90\u001b[0m \u001b[39m@Substitution\u001b[39m(\u001b[39m\"\u001b[39m\u001b[39m\\n\u001b[39;00m\u001b[39mleft : DataFrame or named Series\u001b[39m\u001b[39m\"\u001b[39m)\n\u001b[1;32m     91\u001b[0m \u001b[39m@Appender\u001b[39m(_merge_doc, indents\u001b[39m=\u001b[39m\u001b[39m0\u001b[39m)\n\u001b[1;32m     92\u001b[0m \u001b[39mdef\u001b[39;00m \u001b[39mmerge\u001b[39m(\n\u001b[0;32m   (...)\u001b[0m\n\u001b[1;32m    105\u001b[0m     validate: \u001b[39mstr\u001b[39m \u001b[39m|\u001b[39m \u001b[39mNone\u001b[39;00m \u001b[39m=\u001b[39m \u001b[39mNone\u001b[39;00m,\n\u001b[1;32m    106\u001b[0m ) \u001b[39m-\u001b[39m\u001b[39m>\u001b[39m DataFrame:\n\u001b[0;32m--> 107\u001b[0m     op \u001b[39m=\u001b[39m _MergeOperation(\n\u001b[1;32m    108\u001b[0m         left,\n\u001b[1;32m    109\u001b[0m         right,\n\u001b[1;32m    110\u001b[0m         how\u001b[39m=\u001b[39;49mhow,\n\u001b[1;32m    111\u001b[0m         on\u001b[39m=\u001b[39;49mon,\n\u001b[1;32m    112\u001b[0m         left_on\u001b[39m=\u001b[39;49mleft_on,\n\u001b[1;32m    113\u001b[0m         right_on\u001b[39m=\u001b[39;49mright_on,\n\u001b[1;32m    114\u001b[0m         left_index\u001b[39m=\u001b[39;49mleft_index,\n\u001b[1;32m    115\u001b[0m         right_index\u001b[39m=\u001b[39;49mright_index,\n\u001b[1;32m    116\u001b[0m         sort\u001b[39m=\u001b[39;49msort,\n\u001b[1;32m    117\u001b[0m         suffixes\u001b[39m=\u001b[39;49msuffixes,\n\u001b[1;32m    118\u001b[0m         copy\u001b[39m=\u001b[39;49mcopy,\n\u001b[1;32m    119\u001b[0m         indicator\u001b[39m=\u001b[39;49mindicator,\n\u001b[1;32m    120\u001b[0m         validate\u001b[39m=\u001b[39;49mvalidate,\n\u001b[1;32m    121\u001b[0m     )\n\u001b[1;32m    122\u001b[0m     \u001b[39mreturn\u001b[39;00m op\u001b[39m.\u001b[39mget_result()\n",
      "File \u001b[0;32m~/miniconda3/envs/sdp/lib/python3.10/site-packages/pandas/core/reshape/merge.py:700\u001b[0m, in \u001b[0;36m_MergeOperation.__init__\u001b[0;34m(self, left, right, how, on, left_on, right_on, axis, left_index, right_index, sort, suffixes, copy, indicator, validate)\u001b[0m\n\u001b[1;32m    693\u001b[0m \u001b[39mself\u001b[39m\u001b[39m.\u001b[39m_cross \u001b[39m=\u001b[39m cross_col\n\u001b[1;32m    695\u001b[0m \u001b[39m# note this function has side effects\u001b[39;00m\n\u001b[1;32m    696\u001b[0m (\n\u001b[1;32m    697\u001b[0m     \u001b[39mself\u001b[39m\u001b[39m.\u001b[39mleft_join_keys,\n\u001b[1;32m    698\u001b[0m     \u001b[39mself\u001b[39m\u001b[39m.\u001b[39mright_join_keys,\n\u001b[1;32m    699\u001b[0m     \u001b[39mself\u001b[39m\u001b[39m.\u001b[39mjoin_names,\n\u001b[0;32m--> 700\u001b[0m ) \u001b[39m=\u001b[39m \u001b[39mself\u001b[39;49m\u001b[39m.\u001b[39;49m_get_merge_keys()\n\u001b[1;32m    702\u001b[0m \u001b[39m# validate the merge keys dtypes. We may need to coerce\u001b[39;00m\n\u001b[1;32m    703\u001b[0m \u001b[39m# to avoid incompatible dtypes\u001b[39;00m\n\u001b[1;32m    704\u001b[0m \u001b[39mself\u001b[39m\u001b[39m.\u001b[39m_maybe_coerce_merge_keys()\n",
      "File \u001b[0;32m~/miniconda3/envs/sdp/lib/python3.10/site-packages/pandas/core/reshape/merge.py:1110\u001b[0m, in \u001b[0;36m_MergeOperation._get_merge_keys\u001b[0;34m(self)\u001b[0m\n\u001b[1;32m   1108\u001b[0m     right_keys\u001b[39m.\u001b[39mappend(rk)\n\u001b[1;32m   1109\u001b[0m \u001b[39mif\u001b[39;00m lk \u001b[39mis\u001b[39;00m \u001b[39mnot\u001b[39;00m \u001b[39mNone\u001b[39;00m:\n\u001b[0;32m-> 1110\u001b[0m     left_keys\u001b[39m.\u001b[39mappend(left\u001b[39m.\u001b[39;49m_get_label_or_level_values(lk))\n\u001b[1;32m   1111\u001b[0m     join_names\u001b[39m.\u001b[39mappend(lk)\n\u001b[1;32m   1112\u001b[0m \u001b[39melse\u001b[39;00m:\n\u001b[1;32m   1113\u001b[0m     \u001b[39m# work-around for merge_asof(left_index=True)\u001b[39;00m\n",
      "File \u001b[0;32m~/miniconda3/envs/sdp/lib/python3.10/site-packages/pandas/core/generic.py:1840\u001b[0m, in \u001b[0;36mNDFrame._get_label_or_level_values\u001b[0;34m(self, key, axis)\u001b[0m\n\u001b[1;32m   1838\u001b[0m     values \u001b[39m=\u001b[39m \u001b[39mself\u001b[39m\u001b[39m.\u001b[39maxes[axis]\u001b[39m.\u001b[39mget_level_values(key)\u001b[39m.\u001b[39m_values\n\u001b[1;32m   1839\u001b[0m \u001b[39melse\u001b[39;00m:\n\u001b[0;32m-> 1840\u001b[0m     \u001b[39mraise\u001b[39;00m \u001b[39mKeyError\u001b[39;00m(key)\n\u001b[1;32m   1842\u001b[0m \u001b[39m# Check for duplicates\u001b[39;00m\n\u001b[1;32m   1843\u001b[0m \u001b[39mif\u001b[39;00m values\u001b[39m.\u001b[39mndim \u001b[39m>\u001b[39m \u001b[39m1\u001b[39m:\n",
      "\u001b[0;31mKeyError\u001b[0m: 'code_country'"
     ]
    }
   ],
   "source": [
    "df_zone = pd.read_csv(\"csv/zone.csv\")\n",
    "df_merge = df.merge(df_zone,on='code_contry')"
   ]
  }
 ],
 "metadata": {
  "kernelspec": {
   "display_name": "Python 3.10.4 ('sdp')",
   "language": "python",
   "name": "python3"
  },
  "language_info": {
   "codemirror_mode": {
    "name": "ipython",
    "version": 3
   },
   "file_extension": ".py",
   "mimetype": "text/x-python",
   "name": "python",
   "nbconvert_exporter": "python",
   "pygments_lexer": "ipython3",
   "version": "3.10.4"
  },
  "orig_nbformat": 4,
  "vscode": {
   "interpreter": {
    "hash": "469afe5406be1ea4e852a1c357dde6a9cd024d419e8b8f25c7fc9ec9e36b640c"
   }
  }
 },
 "nbformat": 4,
 "nbformat_minor": 2
}
