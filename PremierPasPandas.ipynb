{
 "cells": [
  {
   "cell_type": "markdown",
   "metadata": {},
   "source": [
    "# Etape n°1"
   ]
  },
  {
   "cell_type": "code",
   "execution_count": 2,
   "metadata": {},
   "outputs": [],
   "source": [
    "import pandas as pd"
   ]
  },
  {
   "cell_type": "markdown",
   "metadata": {},
   "source": [
    "Création du DataFrame pour la population"
   ]
  },
  {
   "cell_type": "code",
   "execution_count": 3,
   "metadata": {},
   "outputs": [],
   "source": [
    "df_pop = pd.read_csv(\"csv/df_pop.csv\")"
   ]
  },
  {
   "cell_type": "markdown",
   "metadata": {},
   "source": [
    "Création du DataFrame pour les produits animals"
   ]
  },
  {
   "cell_type": "code",
   "execution_count": 4,
   "metadata": {},
   "outputs": [],
   "source": [
    "df_anim = pd.read_csv(\"csv/df_anim.csv\")"
   ]
  },
  {
   "cell_type": "markdown",
   "metadata": {},
   "source": [
    "Création du DataFrame pour les produits végetals"
   ]
  },
  {
   "cell_type": "code",
   "execution_count": 5,
   "metadata": {},
   "outputs": [],
   "source": [
    "df_veg = pd.read_csv(\"csv/df_veg.csv\")"
   ]
  },
  {
   "cell_type": "markdown",
   "metadata": {},
   "source": [
    "# Etape n°2\n",
    "\n",
    "### Question n°1 et 2"
   ]
  },
  {
   "cell_type": "markdown",
   "metadata": {},
   "source": [
    "Dimension dataframe population et 5 premières lignes"
   ]
  },
  {
   "cell_type": "code",
   "execution_count": 6,
   "metadata": {},
   "outputs": [
    {
     "name": "stdout",
     "output_type": "stream",
     "text": [
      "<class 'pandas.core.frame.DataFrame'>\n",
      "RangeIndex: 360 entries, 0 to 359\n",
      "Data columns (total 14 columns):\n",
      " #   Column            Non-Null Count  Dtype  \n",
      "---  ------            --------------  -----  \n",
      " 0   Domain Code       360 non-null    object \n",
      " 1   Domain            360 non-null    object \n",
      " 2   Area Code (FAO)   360 non-null    int64  \n",
      " 3   Area              360 non-null    object \n",
      " 4   Element Code      360 non-null    int64  \n",
      " 5   Element           360 non-null    object \n",
      " 6   Item Code         360 non-null    int64  \n",
      " 7   Item              360 non-null    object \n",
      " 8   Year Code         360 non-null    int64  \n",
      " 9   Year              360 non-null    int64  \n",
      " 10  Unit              360 non-null    object \n",
      " 11  Value             360 non-null    float64\n",
      " 12  Flag              360 non-null    object \n",
      " 13  Flag Description  360 non-null    object \n",
      "dtypes: float64(1), int64(5), object(8)\n",
      "memory usage: 39.5+ KB\n"
     ]
    }
   ],
   "source": [
    "#Affiche les informations du dataframe\n",
    "df_pop.info()"
   ]
  },
  {
   "cell_type": "code",
   "execution_count": 7,
   "metadata": {},
   "outputs": [
    {
     "data": {
      "text/plain": [
       "(360, 14)"
      ]
     },
     "execution_count": 7,
     "metadata": {},
     "output_type": "execute_result"
    }
   ],
   "source": [
    "#Affiche la dimension\n",
    "df_pop.shape"
   ]
  },
  {
   "cell_type": "code",
   "execution_count": 8,
   "metadata": {},
   "outputs": [
    {
     "data": {
      "text/html": [
       "<div>\n",
       "<style scoped>\n",
       "    .dataframe tbody tr th:only-of-type {\n",
       "        vertical-align: middle;\n",
       "    }\n",
       "\n",
       "    .dataframe tbody tr th {\n",
       "        vertical-align: top;\n",
       "    }\n",
       "\n",
       "    .dataframe thead th {\n",
       "        text-align: right;\n",
       "    }\n",
       "</style>\n",
       "<table border=\"1\" class=\"dataframe\">\n",
       "  <thead>\n",
       "    <tr style=\"text-align: right;\">\n",
       "      <th></th>\n",
       "      <th>Domain Code</th>\n",
       "      <th>Domain</th>\n",
       "      <th>Area Code (FAO)</th>\n",
       "      <th>Area</th>\n",
       "      <th>Element Code</th>\n",
       "      <th>Element</th>\n",
       "      <th>Item Code</th>\n",
       "      <th>Item</th>\n",
       "      <th>Year Code</th>\n",
       "      <th>Year</th>\n",
       "      <th>Unit</th>\n",
       "      <th>Value</th>\n",
       "      <th>Flag</th>\n",
       "      <th>Flag Description</th>\n",
       "    </tr>\n",
       "  </thead>\n",
       "  <tbody>\n",
       "    <tr>\n",
       "      <th>0</th>\n",
       "      <td>FBS</td>\n",
       "      <td>Food Balances (2010-)</td>\n",
       "      <td>2</td>\n",
       "      <td>Afghanistan</td>\n",
       "      <td>511</td>\n",
       "      <td>Total Population - Both sexes</td>\n",
       "      <td>2501</td>\n",
       "      <td>Population</td>\n",
       "      <td>2018</td>\n",
       "      <td>2018</td>\n",
       "      <td>1000 persons</td>\n",
       "      <td>37172.0</td>\n",
       "      <td>*</td>\n",
       "      <td>Unofficial figure</td>\n",
       "    </tr>\n",
       "    <tr>\n",
       "      <th>1</th>\n",
       "      <td>FBS</td>\n",
       "      <td>Food Balances (2010-)</td>\n",
       "      <td>2</td>\n",
       "      <td>Afghanistan</td>\n",
       "      <td>511</td>\n",
       "      <td>Total Population - Both sexes</td>\n",
       "      <td>2501</td>\n",
       "      <td>Population</td>\n",
       "      <td>2019</td>\n",
       "      <td>2019</td>\n",
       "      <td>1000 persons</td>\n",
       "      <td>38042.0</td>\n",
       "      <td>*</td>\n",
       "      <td>Unofficial figure</td>\n",
       "    </tr>\n",
       "    <tr>\n",
       "      <th>2</th>\n",
       "      <td>FBS</td>\n",
       "      <td>Food Balances (2010-)</td>\n",
       "      <td>3</td>\n",
       "      <td>Albania</td>\n",
       "      <td>511</td>\n",
       "      <td>Total Population - Both sexes</td>\n",
       "      <td>2501</td>\n",
       "      <td>Population</td>\n",
       "      <td>2018</td>\n",
       "      <td>2018</td>\n",
       "      <td>1000 persons</td>\n",
       "      <td>2883.0</td>\n",
       "      <td>*</td>\n",
       "      <td>Unofficial figure</td>\n",
       "    </tr>\n",
       "    <tr>\n",
       "      <th>3</th>\n",
       "      <td>FBS</td>\n",
       "      <td>Food Balances (2010-)</td>\n",
       "      <td>3</td>\n",
       "      <td>Albania</td>\n",
       "      <td>511</td>\n",
       "      <td>Total Population - Both sexes</td>\n",
       "      <td>2501</td>\n",
       "      <td>Population</td>\n",
       "      <td>2019</td>\n",
       "      <td>2019</td>\n",
       "      <td>1000 persons</td>\n",
       "      <td>2881.0</td>\n",
       "      <td>*</td>\n",
       "      <td>Unofficial figure</td>\n",
       "    </tr>\n",
       "    <tr>\n",
       "      <th>4</th>\n",
       "      <td>FBS</td>\n",
       "      <td>Food Balances (2010-)</td>\n",
       "      <td>4</td>\n",
       "      <td>Algeria</td>\n",
       "      <td>511</td>\n",
       "      <td>Total Population - Both sexes</td>\n",
       "      <td>2501</td>\n",
       "      <td>Population</td>\n",
       "      <td>2018</td>\n",
       "      <td>2018</td>\n",
       "      <td>1000 persons</td>\n",
       "      <td>42228.0</td>\n",
       "      <td>*</td>\n",
       "      <td>Unofficial figure</td>\n",
       "    </tr>\n",
       "  </tbody>\n",
       "</table>\n",
       "</div>"
      ],
      "text/plain": [
       "  Domain Code                 Domain  Area Code (FAO)         Area  \\\n",
       "0         FBS  Food Balances (2010-)                2  Afghanistan   \n",
       "1         FBS  Food Balances (2010-)                2  Afghanistan   \n",
       "2         FBS  Food Balances (2010-)                3      Albania   \n",
       "3         FBS  Food Balances (2010-)                3      Albania   \n",
       "4         FBS  Food Balances (2010-)                4      Algeria   \n",
       "\n",
       "   Element Code                        Element  Item Code        Item  \\\n",
       "0           511  Total Population - Both sexes       2501  Population   \n",
       "1           511  Total Population - Both sexes       2501  Population   \n",
       "2           511  Total Population - Both sexes       2501  Population   \n",
       "3           511  Total Population - Both sexes       2501  Population   \n",
       "4           511  Total Population - Both sexes       2501  Population   \n",
       "\n",
       "   Year Code  Year          Unit    Value Flag   Flag Description  \n",
       "0       2018  2018  1000 persons  37172.0    *  Unofficial figure  \n",
       "1       2019  2019  1000 persons  38042.0    *  Unofficial figure  \n",
       "2       2018  2018  1000 persons   2883.0    *  Unofficial figure  \n",
       "3       2019  2019  1000 persons   2881.0    *  Unofficial figure  \n",
       "4       2018  2018  1000 persons  42228.0    *  Unofficial figure  "
      ]
     },
     "execution_count": 8,
     "metadata": {},
     "output_type": "execute_result"
    }
   ],
   "source": [
    "#Affiche les 5 premières lignes\n",
    "df_pop.head()"
   ]
  },
  {
   "cell_type": "markdown",
   "metadata": {},
   "source": [
    "Dimension dataframe poduits animals et 5 premières lignes"
   ]
  },
  {
   "cell_type": "code",
   "execution_count": 9,
   "metadata": {},
   "outputs": [
    {
     "data": {
      "text/plain": [
       "(1080, 14)"
      ]
     },
     "execution_count": 9,
     "metadata": {},
     "output_type": "execute_result"
    }
   ],
   "source": [
    "#Affiche la dimension\n",
    "df_anim.shape"
   ]
  },
  {
   "cell_type": "code",
   "execution_count": 10,
   "metadata": {},
   "outputs": [
    {
     "data": {
      "text/html": [
       "<div>\n",
       "<style scoped>\n",
       "    .dataframe tbody tr th:only-of-type {\n",
       "        vertical-align: middle;\n",
       "    }\n",
       "\n",
       "    .dataframe tbody tr th {\n",
       "        vertical-align: top;\n",
       "    }\n",
       "\n",
       "    .dataframe thead th {\n",
       "        text-align: right;\n",
       "    }\n",
       "</style>\n",
       "<table border=\"1\" class=\"dataframe\">\n",
       "  <thead>\n",
       "    <tr style=\"text-align: right;\">\n",
       "      <th></th>\n",
       "      <th>Domain Code</th>\n",
       "      <th>Domain</th>\n",
       "      <th>Area Code (FAO)</th>\n",
       "      <th>Area</th>\n",
       "      <th>Element Code</th>\n",
       "      <th>Element</th>\n",
       "      <th>Item Code</th>\n",
       "      <th>Item</th>\n",
       "      <th>Year Code</th>\n",
       "      <th>Year</th>\n",
       "      <th>Unit</th>\n",
       "      <th>Value</th>\n",
       "      <th>Flag</th>\n",
       "      <th>Flag Description</th>\n",
       "    </tr>\n",
       "  </thead>\n",
       "  <tbody>\n",
       "    <tr>\n",
       "      <th>0</th>\n",
       "      <td>FBS</td>\n",
       "      <td>Food Balances (2010-)</td>\n",
       "      <td>2</td>\n",
       "      <td>Afghanistan</td>\n",
       "      <td>664</td>\n",
       "      <td>Food supply (kcal/capita/day)</td>\n",
       "      <td>2941</td>\n",
       "      <td>Animal Products</td>\n",
       "      <td>2018</td>\n",
       "      <td>2018</td>\n",
       "      <td>kcal/capita/day</td>\n",
       "      <td>189.00</td>\n",
       "      <td>Fc</td>\n",
       "      <td>Calculated data</td>\n",
       "    </tr>\n",
       "    <tr>\n",
       "      <th>1</th>\n",
       "      <td>FBS</td>\n",
       "      <td>Food Balances (2010-)</td>\n",
       "      <td>2</td>\n",
       "      <td>Afghanistan</td>\n",
       "      <td>664</td>\n",
       "      <td>Food supply (kcal/capita/day)</td>\n",
       "      <td>2941</td>\n",
       "      <td>Animal Products</td>\n",
       "      <td>2019</td>\n",
       "      <td>2019</td>\n",
       "      <td>kcal/capita/day</td>\n",
       "      <td>187.00</td>\n",
       "      <td>Fc</td>\n",
       "      <td>Calculated data</td>\n",
       "    </tr>\n",
       "    <tr>\n",
       "      <th>2</th>\n",
       "      <td>FBS</td>\n",
       "      <td>Food Balances (2010-)</td>\n",
       "      <td>2</td>\n",
       "      <td>Afghanistan</td>\n",
       "      <td>674</td>\n",
       "      <td>Protein supply quantity (g/capita/day)</td>\n",
       "      <td>2941</td>\n",
       "      <td>Animal Products</td>\n",
       "      <td>2018</td>\n",
       "      <td>2018</td>\n",
       "      <td>g/capita/day</td>\n",
       "      <td>10.69</td>\n",
       "      <td>Fc</td>\n",
       "      <td>Calculated data</td>\n",
       "    </tr>\n",
       "    <tr>\n",
       "      <th>3</th>\n",
       "      <td>FBS</td>\n",
       "      <td>Food Balances (2010-)</td>\n",
       "      <td>2</td>\n",
       "      <td>Afghanistan</td>\n",
       "      <td>674</td>\n",
       "      <td>Protein supply quantity (g/capita/day)</td>\n",
       "      <td>2941</td>\n",
       "      <td>Animal Products</td>\n",
       "      <td>2019</td>\n",
       "      <td>2019</td>\n",
       "      <td>g/capita/day</td>\n",
       "      <td>10.34</td>\n",
       "      <td>Fc</td>\n",
       "      <td>Calculated data</td>\n",
       "    </tr>\n",
       "    <tr>\n",
       "      <th>4</th>\n",
       "      <td>FBS</td>\n",
       "      <td>Food Balances (2010-)</td>\n",
       "      <td>2</td>\n",
       "      <td>Afghanistan</td>\n",
       "      <td>684</td>\n",
       "      <td>Fat supply quantity (g/capita/day)</td>\n",
       "      <td>2941</td>\n",
       "      <td>Animal Products</td>\n",
       "      <td>2018</td>\n",
       "      <td>2018</td>\n",
       "      <td>g/capita/day</td>\n",
       "      <td>12.85</td>\n",
       "      <td>Fc</td>\n",
       "      <td>Calculated data</td>\n",
       "    </tr>\n",
       "  </tbody>\n",
       "</table>\n",
       "</div>"
      ],
      "text/plain": [
       "  Domain Code                 Domain  Area Code (FAO)         Area  \\\n",
       "0         FBS  Food Balances (2010-)                2  Afghanistan   \n",
       "1         FBS  Food Balances (2010-)                2  Afghanistan   \n",
       "2         FBS  Food Balances (2010-)                2  Afghanistan   \n",
       "3         FBS  Food Balances (2010-)                2  Afghanistan   \n",
       "4         FBS  Food Balances (2010-)                2  Afghanistan   \n",
       "\n",
       "   Element Code                                 Element  Item Code  \\\n",
       "0           664           Food supply (kcal/capita/day)       2941   \n",
       "1           664           Food supply (kcal/capita/day)       2941   \n",
       "2           674  Protein supply quantity (g/capita/day)       2941   \n",
       "3           674  Protein supply quantity (g/capita/day)       2941   \n",
       "4           684      Fat supply quantity (g/capita/day)       2941   \n",
       "\n",
       "              Item  Year Code  Year             Unit   Value Flag  \\\n",
       "0  Animal Products       2018  2018  kcal/capita/day  189.00   Fc   \n",
       "1  Animal Products       2019  2019  kcal/capita/day  187.00   Fc   \n",
       "2  Animal Products       2018  2018     g/capita/day   10.69   Fc   \n",
       "3  Animal Products       2019  2019     g/capita/day   10.34   Fc   \n",
       "4  Animal Products       2018  2018     g/capita/day   12.85   Fc   \n",
       "\n",
       "  Flag Description  \n",
       "0  Calculated data  \n",
       "1  Calculated data  \n",
       "2  Calculated data  \n",
       "3  Calculated data  \n",
       "4  Calculated data  "
      ]
     },
     "execution_count": 10,
     "metadata": {},
     "output_type": "execute_result"
    }
   ],
   "source": [
    "#Affiche les 5 premières lignes\n",
    "df_anim.head()"
   ]
  },
  {
   "cell_type": "markdown",
   "metadata": {},
   "source": [
    "Dimension dataframe poduits végetals et 5 premières lignes"
   ]
  },
  {
   "cell_type": "code",
   "execution_count": 11,
   "metadata": {},
   "outputs": [
    {
     "data": {
      "text/plain": [
       "(1080, 14)"
      ]
     },
     "execution_count": 11,
     "metadata": {},
     "output_type": "execute_result"
    }
   ],
   "source": [
    "#Affiche les dimensions\n",
    "df_veg.shape"
   ]
  },
  {
   "cell_type": "code",
   "execution_count": 12,
   "metadata": {},
   "outputs": [
    {
     "data": {
      "text/html": [
       "<div>\n",
       "<style scoped>\n",
       "    .dataframe tbody tr th:only-of-type {\n",
       "        vertical-align: middle;\n",
       "    }\n",
       "\n",
       "    .dataframe tbody tr th {\n",
       "        vertical-align: top;\n",
       "    }\n",
       "\n",
       "    .dataframe thead th {\n",
       "        text-align: right;\n",
       "    }\n",
       "</style>\n",
       "<table border=\"1\" class=\"dataframe\">\n",
       "  <thead>\n",
       "    <tr style=\"text-align: right;\">\n",
       "      <th></th>\n",
       "      <th>Domain Code</th>\n",
       "      <th>Domain</th>\n",
       "      <th>Area Code (FAO)</th>\n",
       "      <th>Area</th>\n",
       "      <th>Element Code</th>\n",
       "      <th>Element</th>\n",
       "      <th>Item Code</th>\n",
       "      <th>Item</th>\n",
       "      <th>Year Code</th>\n",
       "      <th>Year</th>\n",
       "      <th>Unit</th>\n",
       "      <th>Value</th>\n",
       "      <th>Flag</th>\n",
       "      <th>Flag Description</th>\n",
       "    </tr>\n",
       "  </thead>\n",
       "  <tbody>\n",
       "    <tr>\n",
       "      <th>0</th>\n",
       "      <td>FBS</td>\n",
       "      <td>Food Balances (2010-)</td>\n",
       "      <td>2</td>\n",
       "      <td>Afghanistan</td>\n",
       "      <td>664</td>\n",
       "      <td>Food supply (kcal/capita/day)</td>\n",
       "      <td>2903</td>\n",
       "      <td>Vegetal Products</td>\n",
       "      <td>2018</td>\n",
       "      <td>2018</td>\n",
       "      <td>kcal/capita/day</td>\n",
       "      <td>2081.00</td>\n",
       "      <td>Fc</td>\n",
       "      <td>Calculated data</td>\n",
       "    </tr>\n",
       "    <tr>\n",
       "      <th>1</th>\n",
       "      <td>FBS</td>\n",
       "      <td>Food Balances (2010-)</td>\n",
       "      <td>2</td>\n",
       "      <td>Afghanistan</td>\n",
       "      <td>664</td>\n",
       "      <td>Food supply (kcal/capita/day)</td>\n",
       "      <td>2903</td>\n",
       "      <td>Vegetal Products</td>\n",
       "      <td>2019</td>\n",
       "      <td>2019</td>\n",
       "      <td>kcal/capita/day</td>\n",
       "      <td>2087.00</td>\n",
       "      <td>Fc</td>\n",
       "      <td>Calculated data</td>\n",
       "    </tr>\n",
       "    <tr>\n",
       "      <th>2</th>\n",
       "      <td>FBS</td>\n",
       "      <td>Food Balances (2010-)</td>\n",
       "      <td>2</td>\n",
       "      <td>Afghanistan</td>\n",
       "      <td>674</td>\n",
       "      <td>Protein supply quantity (g/capita/day)</td>\n",
       "      <td>2903</td>\n",
       "      <td>Vegetal Products</td>\n",
       "      <td>2018</td>\n",
       "      <td>2018</td>\n",
       "      <td>g/capita/day</td>\n",
       "      <td>46.94</td>\n",
       "      <td>Fc</td>\n",
       "      <td>Calculated data</td>\n",
       "    </tr>\n",
       "    <tr>\n",
       "      <th>3</th>\n",
       "      <td>FBS</td>\n",
       "      <td>Food Balances (2010-)</td>\n",
       "      <td>2</td>\n",
       "      <td>Afghanistan</td>\n",
       "      <td>674</td>\n",
       "      <td>Protein supply quantity (g/capita/day)</td>\n",
       "      <td>2903</td>\n",
       "      <td>Vegetal Products</td>\n",
       "      <td>2019</td>\n",
       "      <td>2019</td>\n",
       "      <td>g/capita/day</td>\n",
       "      <td>46.97</td>\n",
       "      <td>Fc</td>\n",
       "      <td>Calculated data</td>\n",
       "    </tr>\n",
       "    <tr>\n",
       "      <th>4</th>\n",
       "      <td>FBS</td>\n",
       "      <td>Food Balances (2010-)</td>\n",
       "      <td>2</td>\n",
       "      <td>Afghanistan</td>\n",
       "      <td>684</td>\n",
       "      <td>Fat supply quantity (g/capita/day)</td>\n",
       "      <td>2903</td>\n",
       "      <td>Vegetal Products</td>\n",
       "      <td>2018</td>\n",
       "      <td>2018</td>\n",
       "      <td>g/capita/day</td>\n",
       "      <td>28.61</td>\n",
       "      <td>Fc</td>\n",
       "      <td>Calculated data</td>\n",
       "    </tr>\n",
       "  </tbody>\n",
       "</table>\n",
       "</div>"
      ],
      "text/plain": [
       "  Domain Code                 Domain  Area Code (FAO)         Area  \\\n",
       "0         FBS  Food Balances (2010-)                2  Afghanistan   \n",
       "1         FBS  Food Balances (2010-)                2  Afghanistan   \n",
       "2         FBS  Food Balances (2010-)                2  Afghanistan   \n",
       "3         FBS  Food Balances (2010-)                2  Afghanistan   \n",
       "4         FBS  Food Balances (2010-)                2  Afghanistan   \n",
       "\n",
       "   Element Code                                 Element  Item Code  \\\n",
       "0           664           Food supply (kcal/capita/day)       2903   \n",
       "1           664           Food supply (kcal/capita/day)       2903   \n",
       "2           674  Protein supply quantity (g/capita/day)       2903   \n",
       "3           674  Protein supply quantity (g/capita/day)       2903   \n",
       "4           684      Fat supply quantity (g/capita/day)       2903   \n",
       "\n",
       "               Item  Year Code  Year             Unit    Value Flag  \\\n",
       "0  Vegetal Products       2018  2018  kcal/capita/day  2081.00   Fc   \n",
       "1  Vegetal Products       2019  2019  kcal/capita/day  2087.00   Fc   \n",
       "2  Vegetal Products       2018  2018     g/capita/day    46.94   Fc   \n",
       "3  Vegetal Products       2019  2019     g/capita/day    46.97   Fc   \n",
       "4  Vegetal Products       2018  2018     g/capita/day    28.61   Fc   \n",
       "\n",
       "  Flag Description  \n",
       "0  Calculated data  \n",
       "1  Calculated data  \n",
       "2  Calculated data  \n",
       "3  Calculated data  \n",
       "4  Calculated data  "
      ]
     },
     "execution_count": 12,
     "metadata": {},
     "output_type": "execute_result"
    }
   ],
   "source": [
    "#Affiche les 5premières lignes\n",
    "df_veg.head()"
   ]
  },
  {
   "cell_type": "markdown",
   "metadata": {},
   "source": [
    "### Question n°3"
   ]
  },
  {
   "cell_type": "markdown",
   "metadata": {},
   "source": [
    "Ajout d'une colonne type pour le dataframe des produits animals et vegetals"
   ]
  },
  {
   "cell_type": "code",
   "execution_count": 13,
   "metadata": {},
   "outputs": [],
   "source": [
    "df_anim[\"type\"] = \"animal_product\""
   ]
  },
  {
   "cell_type": "code",
   "execution_count": null,
   "metadata": {},
   "outputs": [],
   "source": [
    "df_veg[\"type\"] = \"vegetal_product\""
   ]
  }
 ],
 "metadata": {
  "kernelspec": {
   "display_name": "Python 3.10.4 ('sdp')",
   "language": "python",
   "name": "python3"
  },
  "language_info": {
   "codemirror_mode": {
    "name": "ipython",
    "version": 3
   },
   "file_extension": ".py",
   "mimetype": "text/x-python",
   "name": "python",
   "nbconvert_exporter": "python",
   "pygments_lexer": "ipython3",
   "version": "3.10.4"
  },
  "orig_nbformat": 4,
  "vscode": {
   "interpreter": {
    "hash": "469afe5406be1ea4e852a1c357dde6a9cd024d419e8b8f25c7fc9ec9e36b640c"
   }
  }
 },
 "nbformat": 4,
 "nbformat_minor": 2
}
